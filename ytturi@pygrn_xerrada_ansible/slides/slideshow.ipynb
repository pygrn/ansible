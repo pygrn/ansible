{
 "cells": [
  {
   "cell_type": "markdown",
   "metadata": {
    "slideshow": {
     "slide_type": "slide"
    }
   },
   "source": [
    "# Xerrada Ansible - Python Girona\n",
    "\n",
    "----\n",
    "\n",
    "Jaume Flórez Valenzuela\n",
    "(amb la colaboració de Manel Clos)"
   ]
  },
  {
   "cell_type": "markdown",
   "metadata": {
    "slideshow": {
     "slide_type": "slide"
    }
   },
   "source": [
    "# Què és Ansible\n",
    "\n",
    "- Ansible és una eina que ens permet instalar i actualitzar paquets remotament.\n",
    "- Ansible és una aplicació server-side, és a dir, que no l'hem d'instalar a tots els clients.\n",
    "\n",
    "## Com l'Instalem?\n",
    "\n",
    "Ansible és un paquet de python, així que com amb la resta de paquets utilitzarem pip\n",
    "\n",
    "`pip install ansible`\n",
    "\n",
    "Ansible també permet instalar sense utilitzar pip, però s'utilitza altre software.\n",
    "Ho podeu veure revisant la [documentació](https://docs.ansible.com/ansible/2.4/intro_installation.html)"
   ]
  },
  {
   "cell_type": "markdown",
   "metadata": {
    "slideshow": {
     "slide_type": "slide"
    }
   },
   "source": [
    "# Idempotència\n",
    "\n",
    "Una vegada instalat tot el playbook, s'hauria de poder executar de nou sense realitzar cap canvi.\n",
    "Això ens permet actualitzacions/instalacions massives amb diferents entorns.\n",
    "\n",
    "Es basa amb el terme matemàtic on identifiquem que una operació és indempotent quan\n",
    "en aplicarla a un terme, el resultat és el mateix que el terme.\n",
    "\n",
    ">“_En matemática y lógica, la idempotencia es la propiedad para realizar una acción determinada varias veces y aun así conseguir el mismo resultado que se obtendría si se realizase una sola vez_”"
   ]
  },
  {
   "cell_type": "markdown",
   "metadata": {
    "slideshow": {
     "slide_type": "slide"
    }
   },
   "source": [
    "# Tipus de Fitxers\n",
    "\n",
    "- **Inventaris**: Contenen informació sobre els diferents hosts on aplicar les tasques.\n",
    "- **Variables**: Fitxers on podem definir un seguit de variables per utilitzar en les tasques.\n",
    "- **Playbook**: Fitxer on declarem les diferents tasques a realitzar."
   ]
  },
  {
   "cell_type": "markdown",
   "metadata": {
    "slideshow": {
     "slide_type": "slide"
    }
   },
   "source": [
    "# Estructura recomanada (I)\n",
    "\n",
    ">```bash\n",
    ">production       # inventory file for production servers\n",
    ">staging          # inventory file for staging environment\n",
    ">\n",
    ">group_vars/\n",
    ">   group1        # here we assign variables to particular\n",
    ">   group2        # groups\n",
    ">host_vars/\n",
    ">   hostname1     # if systems need specific variables,\n",
    ">   hostname2     # put them here\n",
    ">\n",
    ">library/         # if any custom modules (optional)\n",
    ">module_utils/    # if any custom module_utils (optional)\n",
    ">filter_plugins/  # if any custom filter plugins (optional)\n",
    ">\n",
    ">site.yml         # master playbook\n",
    ">webservers.yml   # playbook for webserver tier\n",
    ">dbservers.yml    # playbook for dbserver tier\n",
    ">\n",
    ">```"
   ]
  },
  {
   "cell_type": "markdown",
   "metadata": {
    "slideshow": {
     "slide_type": "slide"
    }
   },
   "source": [
    "# Estructura recomanada (II)\n",
    "\n",
    ">```bash\n",
    ">roles/\n",
    ">  common/          # this hierarchy represents a \"role\"\n",
    ">    tasks/         \n",
    ">      main.yml     # <- tasks file can include smaller files\n",
    ">                   #    if warranted\n",
    ">    handlers/      \n",
    ">      main.yml     # <- handlers file\n",
    ">    templates/     # <- files for use with the template\n",
    ">                   #    resource\n",
    ">      ntp.conf.j2  # <-- templates end in .j2\n",
    ">    files/         #\n",
    ">      bar.txt      # <- files for use with the copy resource\n",
    ">      foo.sh       # <- script files for use with the script\n",
    ">                   #    resource\n",
    ">    vars/          #\n",
    ">      main.yml     # <- variables associated with this role\n",
    ">    defaults/      #\n",
    ">      main.yml     # <- default lower priority variables\n",
    ">                   #    for this role\n",
    ">    meta/          #\n",
    ">      main.yml     # <- role dependencies\n",
    ">    library/       # roles can also include custom modules\n",
    ">    module_utils/  # roles can also include custom \n",
    ">                   #     module_utils\n",
    ">```"
   ]
  },
  {
   "cell_type": "markdown",
   "metadata": {
    "slideshow": {
     "slide_type": "slide"
    }
   },
   "source": [
    "# Estructura dels inventaris (I)\n",
    "\n",
    "\n",
    "## Que hi definim?\n",
    "\n",
    "- **Hosts**: Utilitzant el _hostname_ o la seva _direcció IP_\n",
    "- **Grups**: Agrupen hosts\n",
    "- **Variables**: tant per un host o per un grup\n"
   ]
  },
  {
   "cell_type": "markdown",
   "metadata": {
    "slideshow": {
     "slide_type": "slide"
    }
   },
   "source": [
    "# Estructura dels inventaris (II)\n",
    "\n",
    "## Per a què serveixen els grups?\n",
    "\n",
    "Els Grups ens permeten:\n",
    "\n",
    "- Definir tasques (playbooks) específics per grups\n",
    "- Definir variables específiques per grups\n",
    "- Agrupar hosts segons \"responsabilitats\" o tipologia\n",
    "\n",
    "Un Host sempre pertany com a mínim al grup \"all\".\n",
    "\n",
    "Si un Host no té grup (a part del \"all\") s'afegeix al grup \"ungrouped\"."
   ]
  },
  {
   "cell_type": "markdown",
   "metadata": {
    "slideshow": {
     "slide_type": "slide"
    }
   },
   "source": [
    "# Estructura dels inventaris (III)\n",
    "\n",
    "##  Format clàssic (definició)\n",
    "\n",
    "1. A no ser que la línia estigui enclausada amb ‘`[ ]`’, es tractarà com a host.\n",
    "2. Si contenen únicament text entre '`[ ]`', representen un grup i tot el que segueix fins trobar un altre '`[ ]`' seran hosts d'aquest grup.\n",
    "3. Si apart del text, conté el caràcter '`:`', representen atributs d'un grup, que seràn:\n",
    "  - VARS:     Variables del grup, definides amb el format \"`<variable>: <valor>`\"\n",
    "  - CHILDREN: Defineix quins grups són \"fills\" del grup actual\n",
    "4. Es poden vincular variables a un host amb el format \"`<variable>=<valor>`\" separant les diferents variables amb espais.\n",
    "  "
   ]
  },
  {
   "cell_type": "markdown",
   "metadata": {
    "slideshow": {
     "slide_type": "slide"
    }
   },
   "source": [
    "# Estructura dels inventaris (III)\n",
    "\n",
    "##  Format clàssic (exemple)\n",
    "\n",
    "\n",
    "```\n",
    "[web]\n",
    "servidor_web  192.168.1.100\n",
    "\n",
    "[documentacio]\n",
    "docs_ansible  192.168.1.101  ansible_ssh_user=ansible src=/home/ansible/src\n",
    "\n",
    "[web:children]\n",
    "documentacio\n",
    "\n",
    "[web:vars]\n",
    "ansible_ssh_user: webmaster\n",
    "```"
   ]
  },
  {
   "cell_type": "markdown",
   "metadata": {
    "slideshow": {
     "slide_type": "slide"
    }
   },
   "source": [
    "# Estructura dels inventaris (IIII)\n",
    "\n",
    "##  Format YAML (definició)\n",
    "\n",
    "Utilitzarem el format d'arbre característic de YAML\n",
    "\n",
    "```yaml\n",
    "group:\n",
    "    hosts:\n",
    "        <host>:\n",
    "            <nom_variable>: <valor_variable>\n",
    "    children:\n",
    "        group:\n",
    "            ...\n",
    "    vars:\n",
    "        <nom_variable>: <valor_variable>\n",
    "```\n",
    "\n"
   ]
  },
  {
   "cell_type": "markdown",
   "metadata": {
    "slideshow": {
     "slide_type": "slide"
    }
   },
   "source": [
    "# Estructura dels inventaris (IIII)\n",
    "\n",
    "##  Format YAML (exemple)\n",
    "\n",
    "```yaml\n",
    "web:\n",
    "    hosts:\n",
    "        servidor_web: 192.168.1.100\n",
    "    children:\n",
    "        documentacio:\n",
    "            hosts:\n",
    "                docs_ansible: 192.168.1.101\n",
    "                    ansible_ssh_user: ansible\n",
    "                    src: /home/ansible/src\n",
    "    vars:\n",
    "        ansible_ssh_user: webmaster\n",
    "```"
   ]
  },
  {
   "cell_type": "markdown",
   "metadata": {
    "slideshow": {
     "slide_type": "slide"
    }
   },
   "source": [
    "# Estructura dels playbooks (I)\n",
    "\n",
    "## Format\n",
    "\n",
    "Compleix el format Yaml, pel que tot el fitxer es representa en format d'arbre.\n",
    "\n",
    "1. Estructura de bàsica\n",
    "  - Definició de hosts afectats (`hosts`)\n",
    "  - Definició de variables ANSIBLE\n",
    "  - Definició de variables per defecte (`vars`)\n",
    "  - Definició de tasques (`tasks`)\n",
    "  - Definició de handlers (`handlers`)\n",
    "  \n"
   ]
  },
  {
   "cell_type": "markdown",
   "metadata": {
    "slideshow": {
     "slide_type": "slide"
    }
   },
   "source": [
    "# Estructura dels playbooks (II)\n",
    "\n",
    "## Format\n",
    "\n",
    "```yaml\n",
    "---\n",
    "- hosts: <grups o hostnames separats per \":\">\n",
    "  <nom de la variable ANSIBLE>: <valor de la variable ANSIBLE>\n",
    "  vars:\n",
    "    - <nom de la variable>: <valor de la variable>\n",
    "  tasks:\n",
    "    - name: <nom de la tasca>\n",
    "      <nom del mòdul a utilitzar>:\n",
    "        <variable del mòdul>: <valor de la variable>\n",
    "      <paràmetre de tasca>: <valor del paràmetre>\n",
    "  handlers:\n",
    "    - name: <nom del handler>\n",
    "      <nom del mòdul a utilitzar>:\n",
    "        <variable del mòdul>: <valor de la variable>\n",
    "      <paràmetre de tasca>: <valor del paràmetre>\n",
    "```"
   ]
  },
  {
   "cell_type": "markdown",
   "metadata": {
    "slideshow": {
     "slide_type": "slide"
    }
   },
   "source": [
    "# Estructura dels playbooks (III)\n",
    "\n",
    "## Variables dels playbooks(I)\n",
    "\n",
    "- Variables ANSIBLE\n",
    "  - Aquelles que ja venen integrades a ANSIBLE\n",
    "  - Són paràmetres per establir la connexió o realitzar la tasca\n",
    "  - i.e.: \n",
    "    - ANSIBLE_SSH_USER: Usuari amb el que connectar-se\n",
    "    - BECOME_USER: Usuari a convertir-se (sudo) quan s'estableixi la connexió\n",
    "    - BECOME: Utilitzar SUDO\n",
    "    - IMPORT_PLAYBOOK: Executa un playbook prèvi a l'actual"
   ]
  },
  {
   "cell_type": "markdown",
   "metadata": {
    "slideshow": {
     "slide_type": "slide"
    }
   },
   "source": [
    "# Estructura dels playbooks (IV)\n",
    "\n",
    "## Variables dels playbooks(II)\n",
    "\n",
    "- Variables (VARS) dins la tasca\n",
    "  - Les variables es poden accedir en format JINJA2 (`\"{{ nom_variable }}\"`)\n",
    "  - Les variables es poden accedir mitjançant diccionaris (`nomgrup['nom_variable']`)"
   ]
  },
  {
   "cell_type": "markdown",
   "metadata": {
    "slideshow": {
     "slide_type": "slide"
    }
   },
   "source": [
    "# Estructura dels playbooks (v)\n",
    "\n",
    "## Variables dels playbooks(III)\n",
    "\n",
    "- Paràmetres de tasca\n",
    "  - Paràmetres que permeten lògica pre o post execució\n",
    "  - i.e.:\n",
    "    - WHEN: Funciona com un IF, només executa si es compleix la condició\n",
    "    - NOTIFY: Llença un \"signal\" en acabar que ha de ser controlat per un HANDLER\n",
    "    - REGISTER: Guarda el resultat de la tasca en una variable\n",
    "    - IGNORE_ERRORS: Permet continuar el Playbook en cas d'error"
   ]
  },
  {
   "cell_type": "markdown",
   "metadata": {
    "slideshow": {
     "slide_type": "slide"
    }
   },
   "source": [
    "# Estructura dels playbooks (III)\n",
    "\n",
    "## Exemple\n",
    "\n",
    "```\n",
    "---\n",
    "- hosts: webservers\n",
    "  remote_user: root\n",
    "\n",
    "  tasks:\n",
    "  - name: write the apache config file\n",
    "    template:\n",
    "      src: /srv/httpd.j2\n",
    "      dest: /etc/httpd.conf\n",
    "    notify:\n",
    "      - restart apache\n",
    "\n",
    "  handlers:\n",
    "    - name: restart apache\n",
    "      service:\n",
    "        name: apache\n",
    "        state: restarted\n",
    "```"
   ]
  },
  {
   "cell_type": "markdown",
   "metadata": {
    "slideshow": {
     "slide_type": "slide"
    }
   },
   "source": [
    "# Definició de Rols (I)\n",
    "\n",
    "- Permeten l'execució anidada de tasques\n",
    "  - No cal que el playbook es trobi dins la carpeta de rols\n",
    "  - Afegirem la variable ANSIBLE `roles`, que és una llista amb els rols afectats\n",
    "\n",
    "```\n",
    "---\n",
    "- hosts: all\n",
    "  roles:\n",
    "    - el_meu_rol\n",
    "```\n",
    "  \n",
    "- Cal definir-los en l'estructura de fitxers\n",
    "  - Ho farem mantinguent l'estructura base, però ho colocarem sota dos directoris nous:\n",
    "    - Roles: Directori base on es troben els rols\n",
    "      - Nom del nostre rol: Directori on trobarem els fitxers relacionats amb el nostre rol\n",
    "      \n"
   ]
  },
  {
   "cell_type": "markdown",
   "metadata": {
    "slideshow": {
     "slide_type": "slide"
    }
   },
   "source": [
    "# Definició de Rols (II)\n",
    "\n",
    "```\n",
    "playbook.yml\n",
    "roles/\n",
    "  el_meu_rol/\n",
    "    tasks/\n",
    "    handlers/\n",
    "    files/\n",
    "    templates/\n",
    "    vars/\n",
    "    defaults/\n",
    "    meta/\n",
    "  un_altre_rol/\n",
    "    tasks/\n",
    "    handlers/\n",
    "    files/\n",
    "    templates/\n",
    "    vars/\n",
    "    defaults/\n",
    "    meta/\n",
    "```"
   ]
  },
  {
   "cell_type": "markdown",
   "metadata": {
    "slideshow": {
     "slide_type": "slide"
    }
   },
   "source": [
    "# Documentació\n",
    "\n",
    "- La documentació a ANSIBLE és molt important, ja que hi ha molts de mòduls i molts paràmetres\n",
    "- Abans de fer qualsevol tasca, pensem que volem fer i busquem-ho\n",
    "  - És molt probable que algú ja ho hagi fet\n",
    "  - Hi poden haver mòduls que ens ajudin amb el que volem fer\n",
    "  - I.e.: Actualitzar la configuració del \"nostre\" programa\n",
    "    - Com que és nostre, ningú ha fet el mòdul\n",
    "    - Sabem que la configuració és un fitxer de text\n",
    "    - Sabem que només toquem una línia\n",
    "    - El mòdul \"lineinfile\" permet actualitzar una línia mitjançant regex i variables\n",
    "- Ansible és molt flexible, té molts de paràmetres que permeten fer moltes coses\n",
    "  - Per aquest motiu és molt difícil recordar-los\n",
    "  - Si busquem el que volem fer, és possible que ho trobem amb paràmetres\n",
    "  - I.e.: Executar un playbook amb un usuari i una tasca amb sudo?\n",
    "    - Afegim el paràmetre `become: yes` a la tasca"
   ]
  },
  {
   "cell_type": "markdown",
   "metadata": {
    "slideshow": {
     "slide_type": "subslide"
    }
   },
   "source": [
    "# Bibliografia\n",
    "\n",
    "- Wikipedia: Idempotence - Wikipedia [Internet 2018] . Disponible al web: https://en.wikipedia.org/wiki/Idempotence\n",
    "- Ansible: Ansible Documentation [Internet 2018]. Disponible al web: http://docs.ansible.com\n",
    "  - [Ansible] Installation Guide -- Ansible Documentation. Disponible al web: http://docs.ansible.com/ansible/latest/installation_guide/intro_installation.html\n",
    "  - [Ansible] Variables -- Ansible Documentation. Disponible al web: http://docs.ansible.com/ansible/latest/user_guide/playbooks_variables.html\n",
    "  - [Ansible] Working with inventory -- Ansible Documentation. Disponible al web: http://docs.ansible.com/ansible/latest/user_guide/intro_inventory.html\n",
    "  - [Ansible] Playbooks -- Ansible Documentation. Disponible al web: https://docs.ansible.com/ansible/2.3/playbooks.html\n",
    "  - [Ansible] Working with playbooks -- Ansible Documentation. Disponible al web: http://docs.ansible.com/ansible/2.5/user_guide/playbooks_reuse_roles.html\n",
    "  http://docs.ansible.com/ansible/latest/user_guide/playbooks.html\n",
    "  - [Ansible] Roles -- Ansible Documentation. Disponible al web: http://docs.ansible.com/ansible/2.5/user_guide/playbooks_reuse_roles.html\n",
    "  - [Ansible] All modules -- Ansible Documentation. Disponible al web: http://docs.ansible.com/ansible/latest/modules/list_of_all_modules.html\n",
    "  - [Ansible] lineinfile - Manage lines in text files -- Ansible Documentation. Disponible al web: http://docs.ansible.com/ansible/latest/modules/lineinfile_module.html"
   ]
  },
  {
   "cell_type": "markdown",
   "metadata": {
    "slideshow": {
     "slide_type": "slide"
    }
   },
   "source": [
    "# Moltes gràcies per escoltar\n",
    "\n",
    "## Preguntes?\n",
    "\n",
    "## Anem a provar-ho?"
   ]
  },
  {
   "cell_type": "code",
   "execution_count": null,
   "metadata": {},
   "outputs": [],
   "source": []
  }
 ],
 "metadata": {
  "celltoolbar": "Slideshow",
  "kernelspec": {
   "display_name": "Python 2",
   "language": "python",
   "name": "python2"
  },
  "language_info": {
   "codemirror_mode": {
    "name": "ipython",
    "version": 2
   },
   "file_extension": ".py",
   "mimetype": "text/x-python",
   "name": "python",
   "nbconvert_exporter": "python",
   "pygments_lexer": "ipython2",
   "version": "2.7.15rc1"
  }
 },
 "nbformat": 4,
 "nbformat_minor": 2
}
